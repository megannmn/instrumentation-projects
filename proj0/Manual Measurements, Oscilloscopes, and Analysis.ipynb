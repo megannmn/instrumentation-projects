{
 "cells": [
  {
   "cell_type": "code",
   "execution_count": null,
   "metadata": {},
   "outputs": [],
   "source": [
    "import pandas as pd\n",
    "import matplotlib.pyplot as plt\n",
    "import numpy as np"
   ]
  },
  {
   "cell_type": "markdown",
   "metadata": {},
   "source": [
    "Project 0: Characterizing An Unknown Component Manually\n",
    "-----------------------------------------------------------------------\n",
    "\n",
    "Suppose you were given a new electronic component with two wires and you were asked\n",
    "to measure its behavior. How would you do it? You might consider a circuit like this:\n",
    "\n",
    "![Unknown](imgs/unknown.png)\n",
    "\n",
    "You could monitor the current (I) with an ideal current meter, and set the voltage (V) with an ideal voltage supply.\n",
    "\n",
    "Unfortunately you'd probably realize that we don't have any ideal current meters handy, (though we do have very nearly ideal voltage sources!). How could we measure the current accurately without putting a current meter inline with the component? After a bit of thought you might come up with this idea:"
   ]
  },
  {
   "cell_type": "markdown",
   "metadata": {},
   "source": [
    "![Unknows_wR](imgs/unknown_wR.png)\n",
    "\n",
    "How does that help? Note that if you *know* the resistance of the resistor, and you can *measure* the voltage at either end of that resistor, you can use Ohm's law to deduce the current flow! Easy! OK, so let's do it. You can go to [tinkercad](https://tinkercad.com) and create a circuit like this:"
   ]
  },
  {
   "cell_type": "markdown",
   "metadata": {},
   "source": [
    "![Tinker](imgs/tinker.png)\n",
    "\n",
    "Note that you can adjust the voltage knob on the power supply and the voltage shown change. Also, while this particular supply displays the current, you could compute the current using the voltage measurements and the resistance of the resistor (1000 $\\Omega$). There is a video describing how to build this circuit on Tinkercad [here](https://youtu.be/UTcm4OGsDi4), and how to create it in LTSpice [here](https://youtu.be/9Oayt4ZMXoQ)."
   ]
  },
  {
   "cell_type": "markdown",
   "metadata": {},
   "source": [
    "The current, in this case, is $I = (10.0\\ {\\rm V} - 5.71\\ {\\rm V})/1000\\ \\Omega \\approx 4.29\\ {\\rm mA}$.\n",
    "\n",
    "If you adjust the voltage over the range 0-10.0 V you can collect a set of data somethign like this. Note that you really should do the measurement!\n"
   ]
  }
 ],
 "metadata": {
  "kernelspec": {
   "display_name": "Python 3",
   "language": "python",
   "name": "python3"
  },
  "language_info": {
   "codemirror_mode": {
    "name": "ipython",
    "version": 3
   },
   "file_extension": ".py",
   "mimetype": "text/x-python",
   "name": "python",
   "nbconvert_exporter": "python",
   "pygments_lexer": "ipython3",
   "version": "3.8.3"
  }
 },
 "nbformat": 4,
 "nbformat_minor": 2
}
