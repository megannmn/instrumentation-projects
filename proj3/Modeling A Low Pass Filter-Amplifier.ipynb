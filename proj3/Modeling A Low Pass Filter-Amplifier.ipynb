{
 "cells": [
  {
   "cell_type": "code",
   "execution_count": 1,
   "metadata": {},
   "outputs": [],
   "source": [
    "import numpy as np\n",
    "import matplotlib.pyplot as pl"
   ]
  },
  {
   "cell_type": "markdown",
   "metadata": {},
   "source": [
    "# Modeling the low-pass filter\n",
    "\n",
    "The idea is that we have a circuit like so:\n",
    "\n",
    "![Op Amp Low Pass Filter](opamp_circuit_small.png)\n",
    "\n",
    "This is an RC circuit followed by a $x2$ amplifier. First consider the RC portion. It's like a voltage divider! If you replaced the $C$ with an $R_2$ you'd simply apply Ohm's Law to compute the current:\n",
    "\n",
    "$$I =\\frac{V_{in}}{R + R_2}$$\n",
    "\n",
    "And compute the voltage accross $R_2$ of:\n",
    "\n",
    "$$V_2 = R_2 I = R_2 \\frac{V_{in}}{R + R_2}$$\n",
    "\n",
    "But this case is very similar: The AC reactance of the capacitor is:\n",
    "\n",
    "$$X_C = \\frac{1}{\\omega C}$$\n",
    "\n",
    "The *impedance* of the series combination of $X_C$ and $R$ is:\n",
    "\n",
    "$$ Z = \\sqrt{R^2 + X_C^2} $$ \n",
    "\n",
    "since the voltage accross the resistor is $90^\\circ$ out of phase with the voltage accross the capacitor.\n",
    "\n",
    "The current through the RC combination is:\n",
    "\n",
    "$$ I = V_{in}/Z $$\n",
    "\n",
    "The voltage accross the capacitor is just:\n",
    "\n",
    "$$V_C = X_C I = X_C \\frac{V_{in}}{Z}$$\n",
    "\n",
    "The *gain* is $V_C/V_{in}$ or:\n",
    "\n",
    "$$G = \\frac{V_C}{V_{in}} = \\frac{X_C}{Z}$$\n",
    "\n",
    "Now, what happens when you add a $x2$ amplifier after the RC circuit?"
   ]
  },
  {
   "cell_type": "code",
   "execution_count": 2,
   "metadata": {},
   "outputs": [
    {
     "data": {
      "text/plain": [
       "<matplotlib.legend.Legend at 0x111578a10>"
      ]
     },
     "execution_count": 2,
     "metadata": {},
     "output_type": "execute_result"
    },
    {
     "data": {
      "image/png": "[encoded data removed]",
      "text/plain": [
       "<Figure size 432x288 with 1 Axes>"
      ]
     },
     "metadata": {
      "needs_background": "light"
     },
     "output_type": "display_data"
    }
   ],
   "source": [
    "#\n",
    "# Here's some sample data from a student lab. \n",
    "#\n",
    "# f is linear frequency, g is measured \"gain\".\n",
    "#\n",
    "# You can use this idea: \n",
    "#\n",
    "#        But use your own data! (R, C, f, g)\n",
    "#\n",
    "\n",
    "f = [100, 300, 500, 700, 900, 1100, \n",
    "     1300, 1500, 1800, 2500, 3100, \n",
    "     4000, 6400, 12300]\n",
    "\n",
    "g = [2,1.88,1.7575,1.5606,1.3939,\n",
    "     1.2813,1.1935,1.0645,.9032,\n",
    "     .7097,.5484,.5161,.3548,.2258]\n",
    "\n",
    "omega = 2*np.pi*np.array(f)\n",
    "\n",
    "R=500\n",
    "C=0.33e-6\n",
    "\n",
    "X = 1.0/(omega*C)\n",
    "Z = np.sqrt(R**2 + X**2)\n",
    "G = 2.0*X/Z\n",
    "\n",
    "pl.loglog(f, G,'r-',label='theory')\n",
    "pl.loglog(f,g,'b.',label='exp')\n",
    "pl.grid()\n",
    "pl.legend()"
   ]
  },
  {
   "cell_type": "code",
   "execution_count": null,
   "metadata": {},
   "outputs": [],
   "source": []
  }
 ],
 "metadata": {
  "kernelspec": {
   "display_name": "Python 3",
   "language": "python",
   "name": "python3"
  },
  "language_info": {
   "codemirror_mode": {
    "name": "ipython",
    "version": 3
   },
   "file_extension": ".py",
   "mimetype": "text/x-python",
   "name": "python",
   "nbconvert_exporter": "python",
   "pygments_lexer": "ipython3",
   "version": "3.7.6"
  }
 },
 "nbformat": 4,
 "nbformat_minor": 2
}
